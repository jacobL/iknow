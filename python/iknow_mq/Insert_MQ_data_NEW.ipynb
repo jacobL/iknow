{
 "cells": [
  {
   "cell_type": "code",
   "execution_count": 2,
   "metadata": {},
   "outputs": [],
   "source": [
    "import pymysql\n",
    "import pandas as pd\n",
    "import datetime\n",
    "import numpy as np\n",
    "import xlrd"
   ]
  },
  {
   "cell_type": "code",
   "execution_count": 5,
   "metadata": {},
   "outputs": [
    {
     "name": "stdout",
     "output_type": "stream",
     "text": [
      " row num: 23 ,col num: 14\n",
      "AE0018   修訂\n",
      "AE0039   修訂\n",
      "AE0046   修訂\n",
      "AE0048   修訂\n",
      "AE0119   修訂\n",
      "AE0122   修訂\n",
      "AE0132   修訂\n",
      "AE0135   修訂\n",
      "AE0180   修訂\n",
      "AE0205   修訂\n",
      "AE0237   修訂\n",
      "AE0258   修訂\n",
      "AE0315   修訂\n",
      "AE0338   修訂\n",
      "AE0339   修訂\n",
      "AE0353   修訂\n",
      "AE0377   修訂\n",
      "AE0378   修訂\n",
      "AE0429   修訂\n",
      "AE0435   新增\n",
      "AE0436   新增\n",
      "AE0437   新增\n"
     ]
    },
    {
     "data": {
      "text/plain": [
       "0"
      ]
     },
     "execution_count": 5,
     "metadata": {},
     "output_type": "execute_result"
    }
   ],
   "source": [
    "# 20200409 \n",
    "# MQ小幫手_Q&A 資料庫修訂_20200406_標準題修訂.xlsx\n",
    "conn = pymysql.connect( host = '10.55.52.98' , port=33060 , user = 'root' , passwd = \"1234\" , db = 'mq')\n",
    "cur = connMQ.cursor()\n",
    "\n",
    "path = \"D:/曾行慶交接/IKnow_MQ/采璿提供新增或修訂資料/MQ小幫手_Q&A 資料庫修訂_20200406_標準題修訂.xlsx\" \n",
    "data = xlrd.open_workbook(path)\n",
    "sheet_raw = data.sheet_by_name('修訂題')\n",
    "print(\" row num:\", sheet_raw.nrows,\",col num:\", sheet_raw.ncols) \n",
    "for row in range(1, sheet_raw.nrows):\n",
    "    \n",
    "    Answer_NO = sheet_raw.cell(row,0).value\n",
    "    Answer = sheet_raw.cell(row,5).value\n",
    "    Keyword = sheet_raw.cell(row,6).value\n",
    "    insertOrUpdate = sheet_raw.cell(row,13).value\n",
    "    if insertOrUpdate == '修訂' :\n",
    "        cur.execute(\"update mq_standand_question set Answer=%s,Keyword=%s where Answer_NO=%s\",(Answer,Keyword,Answer_NO))\n",
    "    elif insertOrUpdate == '新增' :   \n",
    "        System = sheet_raw.cell(row,1).value\n",
    "        Question = sheet_raw.cell(row,2).value\n",
    "        category_main = sheet_raw.cell(row,3).value\n",
    "        category_sub = sheet_raw.cell(row,4).value\n",
    "        SOP_chapter = sheet_raw.cell(row,7).value\n",
    "        SOP_No = sheet_raw.cell(row,8).value\n",
    "        URL = sheet_raw.cell(row,9).value\n",
    "        Enabled = sheet_raw.cell(row,10).value\n",
    "        Creator = sheet_raw.cell(row,11).value\n",
    "        Create_Date = sheet_raw.cell(row,12).value     \n",
    "        #print('category_main:',category_main,',category_sub:',category_sub) \n",
    "        cur.execute(\"insert into mq_standand_question(Answer_NO,System,Question,category_main,category_sub,Answer,Keyword,\\\n",
    "        SOP_chapter,SOP_No,URL,Enabled,Creator,Create_Date)values(%s,%s,%s,%s,%s,%s,%s,%s,%s,%s,%s,%s,CONVERT_TZ(NOW(),'+00:00','+8:00'))\",\\\n",
    "        (Answer_NO,System,Question,category_main,category_sub,Answer,Keyword,SOP_chapter,SOP_No,URL,Enabled,Creator))\n",
    "    #print(Answer_NO,' ',Answer,' ',Keyword)\n",
    "    print(Answer_NO,' ',insertOrUpdate)\n",
    "    #print(Keyword)\n",
    "    #curMQ.execute(\"update mq_standand_question set Answer=%s,Keyword=%s where Answer_NO=%s\",(Answer,Keyword,Answer_NO))\n",
    "cur.execute(\"commit\")    \n",
    "    "
   ]
  }
 ],
 "metadata": {
  "kernelspec": {
   "display_name": "Python 3",
   "language": "python",
   "name": "python3"
  },
  "language_info": {
   "codemirror_mode": {
    "name": "ipython",
    "version": 3
   },
   "file_extension": ".py",
   "mimetype": "text/x-python",
   "name": "python",
   "nbconvert_exporter": "python",
   "pygments_lexer": "ipython3",
   "version": "3.7.0"
  }
 },
 "nbformat": 4,
 "nbformat_minor": 2
}
